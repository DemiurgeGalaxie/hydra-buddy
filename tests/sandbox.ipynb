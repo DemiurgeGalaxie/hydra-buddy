{
 "cells": [
  {
   "cell_type": "code",
   "execution_count": null,
   "metadata": {},
   "outputs": [],
   "source": [
    "from hydra.core.hydra_config import HydraConfig\n",
    "import hydra\n",
    "from omegaconf import OmegaConf\n",
    "@hydra.main(config_path=None, config_name=None)\n",
    "def main(cfg):\n",
    "    # Afficher la structure complète\n",
    "    print(OmegaConf.to_yaml(HydraConfig.instance().get_config()))\n",
    "\n",
    "main()"
   ]
  },
  {
   "cell_type": "code",
   "execution_count": null,
   "metadata": {},
   "outputs": [],
   "source": []
  }
 ],
 "metadata": {
  "kernelspec": {
   "display_name": ".venv",
   "language": "python",
   "name": "python3"
  },
  "language_info": {
   "name": "python",
   "version": "3.13.2"
  }
 },
 "nbformat": 4,
 "nbformat_minor": 2
}
